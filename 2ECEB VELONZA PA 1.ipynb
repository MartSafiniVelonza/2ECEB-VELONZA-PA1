{
 "cells": [
  {
   "cell_type": "code",
   "execution_count": 2,
   "id": "b8531cfd-3bc3-4585-bbc2-52186aa1a8ba",
   "metadata": {},
   "outputs": [
    {
     "name": "stdout",
     "output_type": "stream",
     "text": [
      "2ECEB MART SAFINI V. VELONZA\n"
     ]
    }
   ],
   "source": [
    "print(\"2ECEB MART SAFINI V. VELONZA\")"
   ]
  },
  {
   "cell_type": "markdown",
   "id": "2f90e123-5102-48e4-b251-d9c4b9291aca",
   "metadata": {},
   "source": [
    "ALPHABET SOUP PROBLEM"
   ]
  },
  {
   "cell_type": "code",
   "execution_count": 3,
   "id": "9b739146-7325-4be3-8812-987abd96e45f",
   "metadata": {},
   "outputs": [
    {
     "name": "stdout",
     "output_type": "stream",
     "text": [
      "abcdeefk\n"
     ]
    }
   ],
   "source": [
    "def alphabet_soup(feedback):\n",
    "    return ''.join(sorted(\"feedback\"))\n",
    "print(alphabet_soup(\"feedback\"))\n",
    "    "
   ]
  },
  {
   "cell_type": "markdown",
   "id": "538c1a82-5269-4592-a507-10bed95c2a58",
   "metadata": {},
   "source": [
    "- - - - - - - - - - - - - - - - - - - - - -"
   ]
  },
  {
   "cell_type": "markdown",
   "id": "969bb47e-976b-44fa-a7be-ef6553480173",
   "metadata": {},
   "source": [
    "EMOTICON PROBLEM"
   ]
  },
  {
   "cell_type": "code",
   "execution_count": 4,
   "id": "ff1077c0-59d6-4b58-9f00-868a02325897",
   "metadata": {},
   "outputs": [
    {
     "name": "stdout",
     "output_type": "stream",
     "text": [
      "When you feel :(\n",
      "or >:( about something.\n",
      "Think positive and choose to be happy :D\n",
      "Just :) and go on.\n"
     ]
    }
   ],
   "source": [
    "def emotify(sentence):\n",
    "    emoticons = {\"smile\":\":)\", \"grin\":\":D\",\"sad\":\":(\", \"mad\":\">:(\"}\n",
    "\n",
    "    words = sentence.split()\n",
    "\n",
    "    result = [emoticons.get(word, word) for word in words]\n",
    "\n",
    "    return \" \".join(result)\n",
    "\n",
    "print(emotify(\"When you feel sad\"))\n",
    "print(emotify(\"or mad about something.\"))\n",
    "print(emotify(\"Think positive and choose to be happy grin\"))\n",
    "print(emotify(\"Just smile and go on.\"))"
   ]
  },
  {
   "cell_type": "markdown",
   "id": "0a2fbeb9-e2e2-41f6-9a9e-1cebb22532b3",
   "metadata": {},
   "source": [
    "- - - - - - - - - - - - - - - - - - - - - -"
   ]
  },
  {
   "cell_type": "markdown",
   "id": "f1e61e70-0dbf-445f-8ee7-baa7c95f9722",
   "metadata": {},
   "source": [
    "UNPACKING LIST PROBLEM"
   ]
  },
  {
   "cell_type": "code",
   "execution_count": 5,
   "id": "afa1616a-d99c-4685-ac72-a72d0a4f6557",
   "metadata": {},
   "outputs": [
    {
     "name": "stdout",
     "output_type": "stream",
     "text": [
      "First : 8\n",
      "Middle : [16, 24, 32, 40]\n",
      "Last : 48\n"
     ]
    }
   ],
   "source": [
    "m = [8,16,24,32,40,48]\n",
    "\n",
    "first = m[0]\n",
    "middle = m[1:-1]\n",
    "last = m[-1]\n",
    "\n",
    "print(\"First :\",first)\n",
    "print(\"Middle :\",middle)\n",
    "print(\"Last :\", last)"
   ]
  },
  {
   "cell_type": "code",
   "execution_count": null,
   "id": "49f7b8fd-3e79-4d35-8fb1-2cb5e2870120",
   "metadata": {},
   "outputs": [],
   "source": []
  }
 ],
 "metadata": {
  "kernelspec": {
   "display_name": "Python [conda env:base] *",
   "language": "python",
   "name": "conda-base-py"
  },
  "language_info": {
   "codemirror_mode": {
    "name": "ipython",
    "version": 3
   },
   "file_extension": ".py",
   "mimetype": "text/x-python",
   "name": "python",
   "nbconvert_exporter": "python",
   "pygments_lexer": "ipython3",
   "version": "3.13.5"
  }
 },
 "nbformat": 4,
 "nbformat_minor": 5
}
